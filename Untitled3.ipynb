{
 "cells": [
  {
   "cell_type": "markdown",
   "id": "8c77867a-ec19-4fff-a2f1-22db15eac2fc",
   "metadata": {},
   "source": [
    "# My Jupyter Notebook on IBM Watson Studio"
   ]
  },
  {
   "cell_type": "markdown",
   "id": "a8163518-e74f-4f0c-901e-eed24395462b",
   "metadata": {},
   "source": [
    "**Christopher Chapman**  \n",
    "Associate Scientist"
   ]
  },
  {
   "cell_type": "markdown",
   "id": "991c483c-277a-45ab-abbf-0589119171e8",
   "metadata": {},
   "source": [
    "*I am interested in data science because I believe it has a bright outlook for future job opportunities. Additionally, working with data is the aspect of my current job that I enjoy the most. I find the process of finding patterns and insights within large sets of data to be both challenging and rewarding. I am excited about the potential to use data to make informed decisions and drive positive change in a variety of industries. The field of data science is constantly evolving and I am eager to continue learning and growing as a data scientist.*"
   ]
  },
  {
   "cell_type": "markdown",
   "id": "149beeec-6367-4985-b7c3-d4a0eb8467ec",
   "metadata": {},
   "source": [
    "### Adds two numbers that have been stored as variables"
   ]
  },
  {
   "cell_type": "code",
   "execution_count": 1,
   "id": "4aae16e0-0cfb-46ef-bbbc-09895f62a456",
   "metadata": {},
   "outputs": [
    {
     "data": {
      "text/plain": [
       "3"
      ]
     },
     "execution_count": 1,
     "metadata": {},
     "output_type": "execute_result"
    }
   ],
   "source": [
    "a = 1\n",
    "b = 2\n",
    "a + b"
   ]
  },
  {
   "cell_type": "markdown",
   "id": "eb0059fd-7cdc-4539-bd47-3ceaa1409bd6",
   "metadata": {},
   "source": [
    "~~a = 2~~  \n",
    "Variables  \n",
    "> a  \n",
    "> b  \n",
    "> c  \n",
    "\n",
    "Code to add  \n"
   ]
  },
  {
   "cell_type": "code",
   "execution_count": null,
   "id": "ffae8505-7160-49cb-8b33-0f865791a248",
   "metadata": {},
   "outputs": [],
   "source": []
  }
 ],
 "metadata": {
  "kernelspec": {
   "display_name": "Python 3",
   "language": "python",
   "name": "python3"
  },
  "language_info": {
   "codemirror_mode": {
    "name": "ipython",
    "version": 3
   },
   "file_extension": ".py",
   "mimetype": "text/x-python",
   "name": "python",
   "nbconvert_exporter": "python",
   "pygments_lexer": "ipython3",
   "version": "3.8.8"
  }
 },
 "nbformat": 4,
 "nbformat_minor": 5
}
